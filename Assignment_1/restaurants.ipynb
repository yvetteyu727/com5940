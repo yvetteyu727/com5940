{
 "cells": [
  {
   "cell_type": "code",
   "execution_count": 1,
   "metadata": {
    "scrolled": true
   },
   "outputs": [
    {
     "name": "stdout",
     "output_type": "stream",
     "text": [
      "Requirement already satisfied: PyMySQL in /opt/anaconda3/lib/python3.7/site-packages (0.9.3)\r\n"
     ]
    }
   ],
   "source": [
    "!pip install PyMySQL"
   ]
  },
  {
   "cell_type": "markdown",
   "metadata": {},
   "source": [
    " <h1>MySQL and Airtable Data Access</h1>"
   ]
  },
  {
   "cell_type": "code",
   "execution_count": 3,
   "metadata": {},
   "outputs": [],
   "source": [
    "import pymysql.cursors\n",
    "connection=pymysql.connect(host=\"localhost\", \n",
    "                     user=\"root\",   \n",
    "                     passwd=\"root\", \n",
    "                     db=\"restaurant\",   \n",
    "                     charset='utf8mb4',\n",
    "                     cursorclass=pymysql.cursors.DictCursor)"
   ]
  },
  {
   "cell_type": "code",
   "execution_count": 4,
   "metadata": {},
   "outputs": [
    {
     "name": "stdout",
     "output_type": "stream",
     "text": [
      "\n",
      "\n",
      "[{'restaurant_name': '红巷子 · 川菜', 'pronunciation': 'hóng xiàng zǐ chuān cài ', 'city': 'Beijing 北京', 'per_capita_consumption': '¥157.00', 'rating (out of 5)': Decimal('4.89'), 'address': '东直门内大街288-1-1号', 'opening_hour': '11:00 - 14:00, 17:00 - 01:00', 'telephone_number': '010-64022998'}, {'restaurant_name': '锦府盐帮·李宅', 'pronunciation': 'jǐn fǔ yán bāng lǐ zhái ', 'city': 'Beijing 北京', 'per_capita_consumption': '¥122.00', 'rating (out of 5)': Decimal('4.91'), 'address': '丹棱街甲1号欧美汇购物中心6层', 'opening_hour': '11:00 - 14:30, 16:30 - 21:30', 'telephone_number': '010-82887182'}, {'restaurant_name': '红辣椒', 'pronunciation': 'hóng là jiāo ', 'city': 'Beijing 北京', 'per_capita_consumption': '¥124.00', 'rating (out of 5)': Decimal('4.95'), 'address': '朝外外交部南街联合大厦5层', 'opening_hour': '10:30 - 02:00', 'telephone_number': '010-85728663'}, {'restaurant_name': '滋色菇娘鱼', 'pronunciation': 'zī sè gū niáng yú ', 'city': 'Beijing 北京', 'per_capita_consumption': '¥152.00', 'rating (out of 5)': Decimal('4.88'), 'address': '煤市街与廊坊头条交叉口东北角北京坊西区8号楼3层', 'opening_hour': '11:00 - 22:00', 'telephone_number': '010-83169688'}, {'restaurant_name': '温江老字号鸡毛店', 'pronunciation': 'wēn jiāng lǎo zì hào jī máo diàn ', 'city': 'Chengdu 成都', 'per_capita_consumption': '¥66.00', 'rating (out of 5)': Decimal('4.87'), 'address': '二环路北四段9号高车一路汇融名城D区', 'opening_hour': '11:00 - 15:00, 16:30 - 21:00', 'telephone_number': '18121866618'}, {'restaurant_name': '子月餐厅', 'pronunciation': 'zǐ yuè cān tīng ', 'city': 'Chengdu 成都', 'per_capita_consumption': '¥536.00', 'rating (out of 5)': Decimal('4.90'), 'address': '桂溪路60号安琪儿月子酒店2楼', 'opening_hour': '11:30 - 22:00', 'telephone_number': '028-61961997'}, {'restaurant_name': '陶德砂锅', 'pronunciation': 'táo dé shā guō ', 'city': 'Chengdu 成都', 'per_capita_consumption': '¥56.00', 'rating (out of 5)': Decimal('4.89'), 'address': '蜀汉路494号附2号', 'opening_hour': '10:30 - 14:30, 17:00 - 22:30', 'telephone_number': '028-83518889'}, {'restaurant_name': '冯四女上跷脚牛肉百年传承', 'pronunciation': 'féng sì nǚ shàng qiāo jiǎo niú ròu bǎi nián chuán chéng ', 'city': 'Leshan 乐山', 'per_capita_consumption': '¥38.00', 'rating (out of 5)': Decimal('4.82'), 'address': '嘉兴路289号美食街', 'opening_hour': '09:30 - 20:30', 'telephone_number': '0833-2372777'}, {'restaurant_name': '汤牛汤跷脚牛肉总店', 'pronunciation': 'tāng niú tāng qiāo jiǎo niú ròu zǒng diàn ', 'city': 'Leshan 乐山', 'per_capita_consumption': '¥43.00', 'rating (out of 5)': Decimal('4.85'), 'address': '演武街19号', 'opening_hour': '10:30 - 21:30', 'telephone_number': '15082213330'}, {'restaurant_name': '胃笑·开水鸡钵钵鸡店', 'pronunciation': 'wèi xiào kāi shuǐ jī bō bō jī diàn ', 'city': 'Leshan 乐山', 'per_capita_consumption': '¥45.00', 'rating (out of 5)': Decimal('4.84'), 'address': '嘉祥路30号', 'opening_hour': '09:00 - 21:30', 'telephone_number': '15983351964'}, {'restaurant_name': '本甄精品川菜', 'pronunciation': 'běn zhēn jīng pǐn chuān cài ', 'city': 'Shanghai 上海', 'per_capita_consumption': '¥149.00', 'rating (out of 5)': Decimal('4.92'), 'address': '湖滨路150号湖滨道购物中心3楼', 'opening_hour': '11:00 - 14:30, 16:30 - 21:30', 'telephone_number': '021-53865196'}, {'restaurant_name': '映水芙蓉', 'pronunciation': 'yìng shuǐ fú róng ', 'city': 'Shanghai 上海', 'per_capita_consumption': '¥167.00', 'rating (out of 5)': Decimal('4.87'), 'address': '淮海中路918号7层', 'opening_hour': '10:30 - 14:00, 16:30 - 22:00', 'telephone_number': '(400) 100-1717'}, {'restaurant_name': '天辣', 'pronunciation': 'tiān là ', 'city': 'Shanghai 上海', 'per_capita_consumption': '¥105.00', 'rating (out of 5)': Decimal('4.92'), 'address': '徐家汇路618号日月光广场4楼', 'opening_hour': '11:00 - 14:00, 16:30 - 21:30', 'telephone_number': '021-64377797'}, {'restaurant_name': '鸡毛店·成都江湖菜馆', 'pronunciation': 'jī máo diàn chéng dōu jiāng hú cài guǎn ', 'city': 'Shanghai 上海', 'per_capita_consumption': '¥89.00', 'rating (out of 5)': Decimal('4.54'), 'address': '行知路299号', 'opening_hour': '10:30 - 02:00', 'telephone_number': '021-66770357'}, {'restaurant_name': '禄鼎记', 'pronunciation': 'lù dǐng jì ', 'city': 'Shenzhen 深圳', 'per_capita_consumption': '¥95.00', 'rating (out of 5)': Decimal('4.91'), 'address': '福华路346号卓悦中心L2层L231、L232号铺', 'opening_hour': '11:30 - 14:30, 17:00 - 21:30', 'telephone_number': '0755-25511636'}, {'restaurant_name': '渝辣蜀都', 'pronunciation': 'yú là shǔ dōu ', 'city': 'Shenzhen 深圳', 'per_capita_consumption': '¥65.00', 'rating (out of 5)': Decimal('4.84'), 'address': '梅林街道上梅社区梅林路89号鸿运大楼1栋a109商铺', 'opening_hour': '10:30 - 14:00, 16:00 - 01:00', 'telephone_number': '0755-82529006'}, {'restaurant_name': '马旺子川小馆', 'pronunciation': 'mǎ wàng zǐ chuān xiǎo guǎn ', 'city': 'Shenzhen 深圳', 'per_capita_consumption': '¥135.00', 'rating (out of 5)': Decimal('4.75'), 'address': '科院南路深圳湾万象城1区2楼L246', 'opening_hour': '11:30 - 14:30, 17:00 - 20:30', 'telephone_number': '0755-86181923'}, {'restaurant_name': '巴蜀风', 'pronunciation': 'bā shǔ fēng', 'city': 'Shenzhen 深圳', 'per_capita_consumption': '¥82.00', 'rating (out of 5)': Decimal('4.84'), 'address': '五和大道星河WORLD.COCOPark购物中心B1C-002号铺', 'opening_hour': '11:00 - 14:00, 17:00 - 22:00', 'telephone_number': '0755-86178009'}, {'restaurant_name': '兔行天下鸿鹤鲜锅兔', 'pronunciation': 'tù háng tiān xià hóng hè xiān guō tù ', 'city': 'Zigong 自贡', 'per_capita_consumption': '¥74.00', 'rating (out of 5)': Decimal('4.33'), 'address': '汇东路373号', 'opening_hour': '09:00 - 22:00', 'telephone_number': '0813-8212201'}, {'restaurant_name': '光大老街兔', 'pronunciation': 'guāng dà lǎo jiē tù', 'city': 'Zigong 自贡', 'per_capita_consumption': '¥70.00', 'rating (out of 5)': Decimal('4.87'), 'address': '三八路华西蜀光茗居底商', 'opening_hour': '09:30 - 20:30', 'telephone_number': '0813-2703333'}, {'restaurant_name': '红巷子 · 川菜', 'pronunciation': 'hóng xiàng zǐ chuān cài ', 'city': 'Beijing 北京', 'per_capita_consumption': '¥157.00', 'rating (out of 5)': Decimal('4.89'), 'address': '东直门内大街288-1-1号', 'opening_hour': '11:00 - 14:00, 17:00 - 01:00', 'telephone_number': '010-64022998'}, {'restaurant_name': '锦府盐帮·李宅', 'pronunciation': 'jǐn fǔ yán bāng lǐ zhái ', 'city': 'Beijing 北京', 'per_capita_consumption': '¥122.00', 'rating (out of 5)': Decimal('4.91'), 'address': '丹棱街甲1号欧美汇购物中心6层', 'opening_hour': '11:00 - 14:30, 16:30 - 21:30', 'telephone_number': '010-82887182'}, {'restaurant_name': '红辣椒', 'pronunciation': 'hóng là jiāo ', 'city': 'Beijing 北京', 'per_capita_consumption': '¥124.00', 'rating (out of 5)': Decimal('4.95'), 'address': '朝外外交部南街联合大厦5层', 'opening_hour': '10:30 - 02:00', 'telephone_number': '010-85728663'}, {'restaurant_name': '滋色菇娘鱼', 'pronunciation': 'zī sè gū niáng yú ', 'city': 'Beijing 北京', 'per_capita_consumption': '¥152.00', 'rating (out of 5)': Decimal('4.88'), 'address': '煤市街与廊坊头条交叉口东北角北京坊西区8号楼3层', 'opening_hour': '11:00 - 22:00', 'telephone_number': '010-83169688'}, {'restaurant_name': '温江老字号鸡毛店', 'pronunciation': 'wēn jiāng lǎo zì hào jī máo diàn ', 'city': 'Chengdu 成都', 'per_capita_consumption': '¥66.00', 'rating (out of 5)': Decimal('4.87'), 'address': '二环路北四段9号高车一路汇融名城D区', 'opening_hour': '11:00 - 15:00, 16:30 - 21:00', 'telephone_number': '18121866618'}, {'restaurant_name': '子月餐厅', 'pronunciation': 'zǐ yuè cān tīng ', 'city': 'Chengdu 成都', 'per_capita_consumption': '¥536.00', 'rating (out of 5)': Decimal('4.90'), 'address': '桂溪路60号安琪儿月子酒店2楼', 'opening_hour': '11:30 - 22:00', 'telephone_number': '028-61961997'}, {'restaurant_name': '陶德砂锅', 'pronunciation': 'táo dé shā guō ', 'city': 'Chengdu 成都', 'per_capita_consumption': '¥56.00', 'rating (out of 5)': Decimal('4.89'), 'address': '蜀汉路494号附2号', 'opening_hour': '10:30 - 14:30, 17:00 - 22:30', 'telephone_number': '028-83518889'}, {'restaurant_name': '冯四女上跷脚牛肉百年传承', 'pronunciation': 'féng sì nǚ shàng qiāo jiǎo niú ròu bǎi nián chuán chéng ', 'city': 'Leshan 乐山', 'per_capita_consumption': '¥38.00', 'rating (out of 5)': Decimal('4.82'), 'address': '嘉兴路289号美食街', 'opening_hour': '09:30 - 20:30', 'telephone_number': '0833-2372777'}, {'restaurant_name': '汤牛汤跷脚牛肉总店', 'pronunciation': 'tāng niú tāng qiāo jiǎo niú ròu zǒng diàn ', 'city': 'Leshan 乐山', 'per_capita_consumption': '¥43.00', 'rating (out of 5)': Decimal('4.85'), 'address': '演武街19号', 'opening_hour': '10:30 - 21:30', 'telephone_number': '15082213330'}, {'restaurant_name': '胃笑·开水鸡钵钵鸡店', 'pronunciation': 'wèi xiào kāi shuǐ jī bō bō jī diàn ', 'city': 'Leshan 乐山', 'per_capita_consumption': '¥45.00', 'rating (out of 5)': Decimal('4.84'), 'address': '嘉祥路30号', 'opening_hour': '09:00 - 21:30', 'telephone_number': '15983351964'}, {'restaurant_name': '本甄精品川菜', 'pronunciation': 'běn zhēn jīng pǐn chuān cài ', 'city': 'Shanghai 上海', 'per_capita_consumption': '¥149.00', 'rating (out of 5)': Decimal('4.92'), 'address': '湖滨路150号湖滨道购物中心3楼', 'opening_hour': '11:00 - 14:30, 16:30 - 21:30', 'telephone_number': '021-53865196'}, {'restaurant_name': '映水芙蓉', 'pronunciation': 'yìng shuǐ fú róng ', 'city': 'Shanghai 上海', 'per_capita_consumption': '¥167.00', 'rating (out of 5)': Decimal('4.87'), 'address': '淮海中路918号7层', 'opening_hour': '10:30 - 14:00, 16:30 - 22:00', 'telephone_number': '(400) 100-1717'}, {'restaurant_name': '天辣', 'pronunciation': 'tiān là ', 'city': 'Shanghai 上海', 'per_capita_consumption': '¥105.00', 'rating (out of 5)': Decimal('4.92'), 'address': '徐家汇路618号日月光广场4楼', 'opening_hour': '11:00 - 14:00, 16:30 - 21:30', 'telephone_number': '021-64377797'}, {'restaurant_name': '鸡毛店·成都江湖菜馆', 'pronunciation': 'jī máo diàn chéng dōu jiāng hú cài guǎn ', 'city': 'Shanghai 上海', 'per_capita_consumption': '¥89.00', 'rating (out of 5)': Decimal('4.54'), 'address': '行知路299号', 'opening_hour': '10:30 - 02:00', 'telephone_number': '021-66770357'}, {'restaurant_name': '禄鼎记', 'pronunciation': 'lù dǐng jì ', 'city': 'Shenzhen 深圳', 'per_capita_consumption': '¥95.00', 'rating (out of 5)': Decimal('4.91'), 'address': '福华路346号卓悦中心L2层L231、L232号铺', 'opening_hour': '11:30 - 14:30, 17:00 - 21:30', 'telephone_number': '0755-25511636'}, {'restaurant_name': '渝辣蜀都', 'pronunciation': 'yú là shǔ dōu ', 'city': 'Shenzhen 深圳', 'per_capita_consumption': '¥65.00', 'rating (out of 5)': Decimal('4.84'), 'address': '梅林街道上梅社区梅林路89号鸿运大楼1栋a109商铺', 'opening_hour': '10:30 - 14:00, 16:00 - 01:00', 'telephone_number': '0755-82529006'}, {'restaurant_name': '马旺子川小馆', 'pronunciation': 'mǎ wàng zǐ chuān xiǎo guǎn ', 'city': 'Shenzhen 深圳', 'per_capita_consumption': '¥135.00', 'rating (out of 5)': Decimal('4.75'), 'address': '科院南路深圳湾万象城1区2楼L246', 'opening_hour': '11:30 - 14:30, 17:00 - 20:30', 'telephone_number': '0755-86181923'}, {'restaurant_name': '巴蜀风', 'pronunciation': 'bā shǔ fēng', 'city': 'Shenzhen 深圳', 'per_capita_consumption': '¥82.00', 'rating (out of 5)': Decimal('4.84'), 'address': '五和大道星河WORLD.COCOPark购物中心B1C-002号铺', 'opening_hour': '11:00 - 14:00, 17:00 - 22:00', 'telephone_number': '0755-86178009'}, {'restaurant_name': '兔行天下鸿鹤鲜锅兔', 'pronunciation': 'tù háng tiān xià hóng hè xiān guō tù ', 'city': 'Zigong 自贡', 'per_capita_consumption': '¥74.00', 'rating (out of 5)': Decimal('4.33'), 'address': '汇东路373号', 'opening_hour': '09:00 - 22:00', 'telephone_number': '0813-8212201'}, {'restaurant_name': '光大老街兔', 'pronunciation': 'guāng dà lǎo jiē tù', 'city': 'Zigong 自贡', 'per_capita_consumption': '¥70.00', 'rating (out of 5)': Decimal('4.87'), 'address': '三八路华西蜀光茗居底商', 'opening_hour': '09:30 - 20:30', 'telephone_number': '0813-2703333'}]\n",
      "\n",
      "\n"
     ]
    }
   ],
   "source": [
    "with connection.cursor() as cursor:\n",
    "        sql = \"SELECT * FROM chuan\"\n",
    "        cursor.execute(sql)\n",
    "        result = cursor.fetchall()\n",
    "        dataset = []\n",
    "        temp = {}\n",
    "        i = 0\n",
    "        for row in result:\n",
    "            temp[i] = row\n",
    "            dataset.append(temp[i])\n",
    "            i = i + 1\n",
    "        print('\\n')\n",
    "        print(dataset)\n",
    "        print('\\n')"
   ]
  },
  {
   "cell_type": "code",
   "execution_count": 2,
   "metadata": {},
   "outputs": [
    {
     "name": "stdout",
     "output_type": "stream",
     "text": [
      "[{'restaurant_name': '禄鼎记', 'pronunciation': 'lù dǐng jì ', 'city': 'Shenzhen 深圳', 'per_capita_consumption': 95, 'rating (out of 5)': 4.91, 'address': '福华路346号卓悦中心L2层L231、L232号铺', 'opening_hour': '11:30 - 14:30, 17:00 - 21:30', 'telephone_number': '0755-25511636', 'lat': 22.53528, 'lng': 114.06966}, {'restaurant_name': '滋色菇娘鱼', 'pronunciation': 'zī sè gū niáng yú ', 'city': 'Beijing 北京', 'per_capita_consumption': 152, 'rating (out of 5)': 4.88, 'address': '煤市街与廊坊头条交叉口东北角北京坊西区8号楼3层', 'opening_hour': '11:00 - 22:00', 'telephone_number': '010-83169688', 'lat': 39.894677, 'lng': 116.391349}, {'restaurant_name': '温江老字号鸡毛店', 'pronunciation': 'wēn jiāng lǎo zì hào jī máo diàn ', 'city': 'Chengdu 成都', 'per_capita_consumption': 66, 'rating (out of 5)': 4.87, 'address': '二环路北四段9号高车一路汇融名城D区', 'opening_hour': '11:00 - 15:00, 16:30 - 21:00', 'telephone_number': '18121866618', 'lat': 30.690725, 'lng': 104.094978}, {'restaurant_name': '冯四女上跷脚牛肉百年传承', 'pronunciation': 'féng sì nǚ shàng qiāo jiǎo niú ròu bǎi nián chuán chéng ', 'city': 'Leshan 乐山', 'per_capita_consumption': 38, 'rating (out of 5)': 4.82, 'address': '嘉兴路289号美食街', 'opening_hour': '09:30 - 20:30', 'telephone_number': '0833-2372777', 'lat': 29.596139, 'lng': 103.744254}, {'restaurant_name': '汤牛汤跷脚牛肉总店', 'pronunciation': 'tāng niú tāng qiāo jiǎo niú ròu zǒng diàn ', 'city': 'Leshan 乐山', 'per_capita_consumption': 43, 'rating (out of 5)': 4.85, 'address': '演武街19号', 'opening_hour': '10:30 - 21:30', 'telephone_number': '15082213330', 'lat': 29.572726, 'lng': 103.769001}, {'restaurant_name': '本甄精品川菜', 'pronunciation': 'běn zhēn jīng pǐn chuān cài ', 'city': 'Shanghai 上海', 'per_capita_consumption': 149, 'rating (out of 5)': 4.92, 'address': '湖滨路150号湖滨道购物中心3楼', 'opening_hour': '11:00 - 14:30, 16:30 - 21:30', 'telephone_number': '021-53865196', 'lat': 31.220277, 'lng': 121.477537}, {'restaurant_name': '映水芙蓉', 'pronunciation': 'yìng shuǐ fú róng ', 'city': 'Shanghai 上海', 'per_capita_consumption': 167, 'rating (out of 5)': 4.87, 'address': '淮海中路918号7层', 'opening_hour': '10:30 - 14:00, 16:30 - 22:00', 'telephone_number': '(400) 100-1717', 'lat': 31.217383, 'lng': 121.459676}, {'restaurant_name': '兔行天下鸿鹤鲜锅兔', 'pronunciation': 'tù háng tiān xià hóng hè xiān guō tù ', 'city': 'Zigong 自贡', 'per_capita_consumption': 74, 'rating (out of 5)': 4.33, 'address': '汇东路373号', 'opening_hour': '09:00 - 22:00', 'telephone_number': '0813-8212201', 'lat': 29.342879, 'lng': 104.767502}, {'restaurant_name': '天辣', 'pronunciation': 'tiān là ', 'city': 'Shanghai 上海', 'per_capita_consumption': 105, 'rating (out of 5)': 4.92, 'address': '徐家汇路618号日月光广场4楼', 'opening_hour': '11:00 - 14:00, 16:30 - 21:30', 'telephone_number': '021-64377797', 'lat': 31.205713, 'lng': 121.4681}, {'restaurant_name': '光大老街兔', 'pronunciation': 'guāng dà lǎo jiē tù', 'city': 'Zigong 自贡', 'per_capita_consumption': 70, 'rating (out of 5)': 4.87, 'address': '三八路华西蜀光茗居底商', 'opening_hour': '09:30 - 20:30', 'telephone_number': '0813-2703333', 'lat': 29.353121, 'lng': 104.78711}, {'restaurant_name': '渝辣蜀都', 'pronunciation': 'yú là shǔ dōu ', 'city': 'Shenzhen 深圳', 'per_capita_consumption': 65, 'rating (out of 5)': 4.84, 'address': '梅林街道上梅社区梅林路89号鸿运大楼1栋a109商铺', 'opening_hour': '10:30 - 14:00, 16:00 - 01:00', 'telephone_number': '0755-82529006', 'lat': 22.56846, 'lng': 114.058249}, {'restaurant_name': '鸡毛店·成都江湖菜馆', 'pronunciation': 'jī máo diàn chéng dōu jiāng hú cài guǎn ', 'city': 'Shanghai 上海', 'per_capita_consumption': 89, 'rating (out of 5)': 4.54, 'address': '行知路299号', 'opening_hour': '10:30 - 02:00', 'telephone_number': '021-66770357', 'lat': 31.284066, 'lng': 121.416136}, {'restaurant_name': '子月餐厅', 'pronunciation': 'zǐ yuè cān tīng ', 'city': 'Chengdu 成都', 'per_capita_consumption': 536, 'rating (out of 5)': 4.9, 'address': '桂溪路60号安琪儿月子酒店2楼', 'opening_hour': '11:30 - 22:00', 'telephone_number': '028-61961997', 'lat': 30.602895, 'lng': 104.08033}, {'restaurant_name': '胃笑·开水鸡钵钵鸡店', 'pronunciation': 'wèi xiào kāi shuǐ jī bō bō jī diàn ', 'city': 'Leshan 乐山', 'per_capita_consumption': 45, 'rating (out of 5)': 4.84, 'address': '嘉祥路30号', 'opening_hour': '09:00 - 21:30', 'telephone_number': '15983351964', 'lat': 29.595275103, 'lng': 103.755555}, {'restaurant_name': '马旺子川小馆', 'pronunciation': 'mǎ wàng zǐ chuān xiǎo guǎn ', 'city': 'Shenzhen 深圳', 'per_capita_consumption': 135, 'rating (out of 5)': 4.75, 'address': '科院南路深圳湾万象城1区2楼L246', 'opening_hour': '11:30 - 14:30, 17:00 - 20:30', 'telephone_number': '0755-86181923', 'lat': 22.516599, 'lng': 113.946627}, {'restaurant_name': '巴蜀风', 'pronunciation': 'bā shǔ fēng', 'city': 'Shenzhen 深圳', 'per_capita_consumption': 82, 'rating (out of 5)': 4.84, 'address': '五和大道星河WORLD.COCOPark购物中心B1C-002号铺', 'opening_hour': '11:00 - 14:00, 17:00 - 22:00', 'telephone_number': '0755-86178009', 'lat': 22.533527, 'lng': 114.054405}, {'restaurant_name': '陶德砂锅', 'pronunciation': 'táo dé shā guō ', 'city': 'Chengdu 成都', 'per_capita_consumption': 56, 'rating (out of 5)': 4.89, 'address': '蜀汉路494号附2号', 'opening_hour': '10:30 - 14:30, 17:00 - 22:30', 'telephone_number': '028-83518889', 'lat': 30.691346104, 'lng': 104.015581}, {'restaurant_name': '红巷子 · 川菜', 'pronunciation': 'hóng xiàng zǐ chuān cài ', 'city': 'Beijing 北京', 'per_capita_consumption': 157, 'rating (out of 5)': 4.89, 'address': '东直门内大街288-1-1号', 'opening_hour': '11:00 - 14:00, 17:00 - 01:00', 'telephone_number': '010-64022998', 'lat': 39.940965, 'lng': 116.417157}, {'restaurant_name': '锦府盐帮·李宅', 'pronunciation': 'jǐn fǔ yán bāng lǐ zhái ', 'city': 'Beijing 北京', 'per_capita_consumption': 122, 'rating (out of 5)': 4.905, 'address': '丹棱街甲1号欧美汇购物中心6层', 'opening_hour': '11:00 - 14:30, 16:30 - 21:30', 'telephone_number': '010-82887182', 'lat': 39.979572, 'lng': 116.314038}, {'restaurant_name': '红辣椒', 'pronunciation': 'hóng là jiāo ', 'city': 'Beijing 北京', 'per_capita_consumption': 124, 'rating (out of 5)': 4.945, 'address': '朝外外交部南街联合大厦5层', 'opening_hour': '10:30 - 02:00', 'telephone_number': '010-85728663', 'lat': 39.923281, 'lng': 116.438287}]\n",
      "\n",
      "\n",
      "['禄鼎记', '滋色菇娘鱼', '温江老字号鸡毛店', '冯四女上跷脚牛肉百年传承', '汤牛汤跷脚牛肉总店', '本甄精品川菜', '映水芙蓉', '兔行天下鸿鹤鲜锅兔', '天辣', '光大老街兔', '渝辣蜀都', '鸡毛店·成都江湖菜馆', '子月餐厅', '胃笑·开水鸡钵钵鸡店', '马旺子川小馆', '巴蜀风', '陶德砂锅', '红巷子 · 川菜', '锦府盐帮·李宅', '红辣椒']\n"
     ]
    }
   ],
   "source": [
    "import requests\n",
    "\n",
    "headers = {\n",
    "'Authorization': 'Bearer <API Key>',\n",
    "}\n",
    "\n",
    "params = (\n",
    "('view', 'Grid view'),\n",
    ")\n",
    "\n",
    "r = requests.get('https://api.airtable.com/v0/appT9Y78c8u6UPG0h/chuan?api_key=keypxZMYMv2UUxEw3&sortField=_createdTime&sortDirection=desc', headers=headers, params=params)\n",
    "dict = r.json()\n",
    "dataset = []\n",
    "restaurant_name = []\n",
    "city = []\n",
    "opening_hour = []\n",
    "for i in dict['records']:\n",
    "     dict = i['fields']\n",
    "     dataset.append(dict)\n",
    "print(dataset)\n",
    "print('\\n')\n",
    "for dicts in dataset:\n",
    "    restaurant_name.append(dicts.get('restaurant_name'))\n",
    "    city.append(dicts.get('city'))\n",
    "    opening_hour.append(dicts.get('opening_hour'))\n",
    "print(restaurant_name)"
   ]
  }
 ],
 "metadata": {
  "kernelspec": {
   "display_name": "Python 3",
   "language": "python",
   "name": "python3"
  },
  "language_info": {
   "codemirror_mode": {
    "name": "ipython",
    "version": 3
   },
   "file_extension": ".py",
   "mimetype": "text/x-python",
   "name": "python",
   "nbconvert_exporter": "python",
   "pygments_lexer": "ipython3",
   "version": "3.7.4"
  }
 },
 "nbformat": 4,
 "nbformat_minor": 2
}
